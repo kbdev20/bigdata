{
  "nbformat": 4,
  "nbformat_minor": 0,
  "metadata": {
    "colab": {
      "provenance": [],
      "mount_file_id": "https://github.com/kbdev20/bigdata/blob/main/BigData.ipynb",
      "authorship_tag": "ABX9TyMfS4X+fUvhd9Wi4bG+O/zq",
      "include_colab_link": true
    },
    "kernelspec": {
      "name": "python3",
      "display_name": "Python 3"
    },
    "language_info": {
      "name": "python"
    }
  },
  "cells": [
    {
      "cell_type": "markdown",
      "metadata": {
        "id": "view-in-github",
        "colab_type": "text"
      },
      "source": [
        "<a href=\"https://colab.research.google.com/github/kbdev20/bigdata/blob/main/BigData.ipynb\" target=\"_parent\"><img src=\"https://colab.research.google.com/assets/colab-badge.svg\" alt=\"Open In Colab\"/></a>"
      ]
    },
    {
      "cell_type": "markdown",
      "source": [
        "Szükséges intallálások"
      ],
      "metadata": {
        "id": "x7bb05NqdcR2"
      }
    },
    {
      "cell_type": "code",
      "source": [
        "!pip install pandas pyarrow"
      ],
      "metadata": {
        "id": "DdhjC6bYdb2I"
      },
      "execution_count": null,
      "outputs": []
    },
    {
      "cell_type": "markdown",
      "source": [
        "Adatok elérése"
      ],
      "metadata": {
        "id": "giqmW4apgh9K"
      }
    },
    {
      "cell_type": "code",
      "execution_count": null,
      "metadata": {
        "id": "E56VX6T-Y0Q9"
      },
      "outputs": [],
      "source": [
        "## Do some code here\n",
        "# data: /content/drive/MyDrive/BigData/stop_times.txt\n",
        "\n",
        "data = \"/content/drive/MyDrive/BigData/stop_times.txt\"\n",
        "\n",
        "print(\"hello bello\")"
      ]
    },
    {
      "cell_type": "markdown",
      "source": [
        "Adatok beolvasása"
      ],
      "metadata": {
        "id": "oRzDg-Rago2p"
      }
    },
    {
      "cell_type": "code",
      "source": [
        "# csv_to_parquet.py\n",
        "\n",
        "import pandas as pd\n",
        "import pyarrow as pa\n",
        "import pyarrow.parquet as pq\n",
        "\n",
        "csv_file = data\n",
        "parquet_file = '/content/drive/MyDrive/BigData/parquet.txt'\n",
        "chunksize = 100_000\n",
        "\n",
        "csv_stream = pd.read_csv(csv_file, sep='\\t', chunksize=chunksize, low_memory=False)\n",
        "\n",
        "for i, chunk in enumerate(csv_stream):\n",
        "    print(\"Chunk\", i)\n",
        "    if i == 0:\n",
        "        # Guess the schema of the CSV file from the first chunk\n",
        "        parquet_schema = pa.Table.from_pandas(df=chunk).schema\n",
        "        # Open a Parquet file for writing\n",
        "        parquet_writer = pq.ParquetWriter(parquet_file, parquet_schema, compression='snappy')\n",
        "    # Write CSV chunk to the parquet file\n",
        "    table = pa.Table.from_pandas(chunk, schema=parquet_schema)\n",
        "    parquet_writer.write_table(table)\n",
        "\n",
        "parquet_writer.close()"
      ],
      "metadata": {
        "id": "-4mvCguRfrKi"
      },
      "execution_count": null,
      "outputs": []
    },
    {
      "cell_type": "markdown",
      "source": [
        "Adatok DataFrame-be töltése"
      ],
      "metadata": {
        "id": "BQQnqFtJg1kQ"
      }
    },
    {
      "cell_type": "code",
      "source": [
        "test_df = pd.read_csv('/content/drive/MyDrive/BigData/stop_times.txt')\n",
        "test_df.head"
      ],
      "metadata": {
        "id": "A53O5bangPk5"
      },
      "execution_count": null,
      "outputs": []
    },
    {
      "cell_type": "markdown",
      "source": [
        " \n",
        "*   TODO: Adatelőkészítés és szűkítés: a cél mindenhol az, hogy \"mikroadatokon\" dolgozzunk, így ha adatszűkítésre van szükség, akkor javasolt nem mintavételezni, hanem szisztematikusan részadatkészletet választani. Az előkészítés része egy adatszótár létrehozása is (jó gyakorlat: https://help.osf.io/article/217-how-to-make-a-data-dictionary).\n",
        "*   Cél: dokumentáljuk és értsük az adatkészlet változóit. \n",
        "\n"
      ],
      "metadata": {
        "id": "9nbyCJtOi8Nj"
      }
    },
    {
      "cell_type": "code",
      "source": [],
      "metadata": {
        "id": "79Saw5i7h_o9"
      },
      "execution_count": null,
      "outputs": []
    }
  ]
}