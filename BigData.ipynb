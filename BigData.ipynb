{
  "nbformat": 4,
  "nbformat_minor": 0,
  "metadata": {
    "colab": {
      "provenance": [],
      "mount_file_id": "https://github.com/kbdev20/bigdata/blob/main/BigData.ipynb",
      "authorship_tag": "ABX9TyMGMx5wc2o2S/SMLFpQOZ4v",
      "include_colab_link": true
    },
    "kernelspec": {
      "name": "python3",
      "display_name": "Python 3"
    },
    "language_info": {
      "name": "python"
    }
  },
  "cells": [
    {
      "cell_type": "markdown",
      "metadata": {
        "id": "view-in-github",
        "colab_type": "text"
      },
      "source": [
        "<a href=\"https://colab.research.google.com/github/kbdev20/bigdata/blob/main/BigData.ipynb\" target=\"_parent\"><img src=\"https://colab.research.google.com/assets/colab-badge.svg\" alt=\"Open In Colab\"/></a>"
      ]
    },
    {
      "cell_type": "markdown",
      "source": [
        "Szükséges intallálások"
      ],
      "metadata": {
        "id": "x7bb05NqdcR2"
      }
    },
    {
      "cell_type": "code",
      "source": [
        "!pip install pandas pyarrow"
      ],
      "metadata": {
        "colab": {
          "base_uri": "https://localhost:8080/"
        },
        "id": "DdhjC6bYdb2I",
        "outputId": "fb54dad2-06fc-4399-dcf8-7d75c7e702e1"
      },
      "execution_count": 7,
      "outputs": [
        {
          "output_type": "stream",
          "name": "stdout",
          "text": [
            "Looking in indexes: https://pypi.org/simple, https://us-python.pkg.dev/colab-wheels/public/simple/\n",
            "Requirement already satisfied: pandas in /usr/local/lib/python3.7/dist-packages (1.3.5)\n",
            "Requirement already satisfied: pyarrow in /usr/local/lib/python3.7/dist-packages (9.0.0)\n",
            "Requirement already satisfied: pytz>=2017.3 in /usr/local/lib/python3.7/dist-packages (from pandas) (2022.6)\n",
            "Requirement already satisfied: numpy>=1.17.3 in /usr/local/lib/python3.7/dist-packages (from pandas) (1.21.6)\n",
            "Requirement already satisfied: python-dateutil>=2.7.3 in /usr/local/lib/python3.7/dist-packages (from pandas) (2.8.2)\n",
            "Requirement already satisfied: six>=1.5 in /usr/local/lib/python3.7/dist-packages (from python-dateutil>=2.7.3->pandas) (1.15.0)\n"
          ]
        }
      ]
    },
    {
      "cell_type": "code",
      "execution_count": 5,
      "metadata": {
        "id": "E56VX6T-Y0Q9",
        "colab": {
          "base_uri": "https://localhost:8080/"
        },
        "outputId": "3eb5650f-f870-41c2-bf67-032d570ff6df"
      },
      "outputs": [
        {
          "output_type": "stream",
          "name": "stdout",
          "text": [
            "hello bello\n"
          ]
        }
      ],
      "source": [
        "## Do some code here\n",
        "# data: /content/drive/MyDrive/BigData/stop_times.txt\n",
        "\n",
        "data = \"/content/drive/MyDrive/BigData/stop_times.txt\"\n",
        "\n",
        "print(\"hello bello\")\n",
        "\n",
        "\n",
        "\n"
      ]
    }
  ]
}