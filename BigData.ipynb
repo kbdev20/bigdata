{
  "nbformat": 4,
  "nbformat_minor": 0,
  "metadata": {
    "colab": {
      "provenance": [],
      "mount_file_id": "https://github.com/kbdev20/bigdata/blob/main/BigData.ipynb",
      "authorship_tag": "ABX9TyPubynXCOWCFFYKeOWY+FBB",
      "include_colab_link": true
    },
    "kernelspec": {
      "name": "python3",
      "display_name": "Python 3"
    },
    "language_info": {
      "name": "python"
    }
  },
  "cells": [
    {
      "cell_type": "markdown",
      "metadata": {
        "id": "view-in-github",
        "colab_type": "text"
      },
      "source": [
        "<a href=\"https://colab.research.google.com/github/kbdev20/bigdata/blob/main/BigData.ipynb\" target=\"_parent\"><img src=\"https://colab.research.google.com/assets/colab-badge.svg\" alt=\"Open In Colab\"/></a>"
      ]
    },
    {
      "cell_type": "code",
      "execution_count": 3,
      "metadata": {
        "id": "E56VX6T-Y0Q9"
      },
      "outputs": [],
      "source": [
        "## Do some code here\n",
        "# data: /content/drive/MyDrive/BigData/stop_times.txt\n",
        "\n",
        "data = \"/content/drive/MyDrive/BigData/stop_times.txt\"\n",
        "\n",
        "\n",
        "\n"
      ]
    }
  ]
}