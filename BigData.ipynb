{
  "nbformat": 4,
  "nbformat_minor": 0,
  "metadata": {
    "colab": {
      "provenance": [],
      "mount_file_id": "https://github.com/kbdev20/bigdata/blob/main/BigData.ipynb",
      "authorship_tag": "ABX9TyNPs1st+KDRj9C7+S9BBJt7",
      "include_colab_link": true
    },
    "kernelspec": {
      "name": "python3",
      "display_name": "Python 3"
    },
    "language_info": {
      "name": "python"
    }
  },
  "cells": [
    {
      "cell_type": "markdown",
      "metadata": {
        "id": "view-in-github",
        "colab_type": "text"
      },
      "source": [
        "<a href=\"https://colab.research.google.com/github/kbdev20/bigdata/blob/main/BigData.ipynb\" target=\"_parent\"><img src=\"https://colab.research.google.com/assets/colab-badge.svg\" alt=\"Open In Colab\"/></a>"
      ]
    },
    {
      "cell_type": "markdown",
      "source": [
        "Conda telepítés a Colab rendszerbe"
      ],
      "metadata": {
        "id": "hVv5nZlRhJx3"
      }
    },
    {
      "cell_type": "code",
      "source": [
        "################################################################################\n",
        "# INSTALL CONDA ON GOOGLE COLAB\n",
        "################################################################################\n",
        "! wget https://repo.anaconda.com/miniconda/Miniconda3-py37_4.8.2-Linux-x86_64.sh\n",
        "! chmod +x Miniconda3-py37_4.8.2-Linux-x86_64.sh\n",
        "! bash ./Miniconda3-py37_4.8.2-Linux-x86_64.sh -b -f -p /usr/local\n",
        "import sys\n",
        "sys.path.append('/usr/local/lib/python3.7/site-packages/')"
      ],
      "metadata": {
        "id": "qJOoExs8hGeJ"
      },
      "execution_count": null,
      "outputs": []
    },
    {
      "cell_type": "markdown",
      "source": [
        "Szükséges intallálások"
      ],
      "metadata": {
        "id": "x7bb05NqdcR2"
      }
    },
    {
      "cell_type": "code",
      "source": [
        "!pip install pandas pyarrow\n",
        "!conda install -c rdkit rdkit -y"
      ],
      "metadata": {
        "id": "DdhjC6bYdb2I"
      },
      "execution_count": null,
      "outputs": []
    },
    {
      "cell_type": "markdown",
      "source": [
        "Szükséges adatok betöltése"
      ],
      "metadata": {
        "id": "giqmW4apgh9K"
      }
    },
    {
      "cell_type": "code",
      "execution_count": 4,
      "metadata": {
        "id": "E56VX6T-Y0Q9",
        "colab": {
          "base_uri": "https://localhost:8080/"
        },
        "outputId": "c1244416-b61b-4ba4-df43-d0ce27ab50c9"
      },
      "outputs": [
        {
          "output_type": "stream",
          "name": "stdout",
          "text": [
            "hello bello\n"
          ]
        }
      ],
      "source": [
        "## Do some code here\n",
        "# data: /content/drive/MyDrive/BigData/stop_times.txt\n",
        "##      https://drive.google.com/file/d/1fAIfsmk0ZuyShny5tqdOgsF_m2Dj9JSU/view?usp=share_link\n",
        "\n",
        "import pandas as pd\n",
        "\n",
        "stops = \"/content/drive/MyDrive/BigData/stops.txt\"\n",
        "stop_times = \"/content/drive/MyDrive/BigData/stop_times.txt\"\n",
        "routes = \"/content/drive/MyDrive/BigData/routes.txt\"\n",
        "trips = \"/content/drive/MyDrive/BigData/trips.txt\"\n",
        "\n",
        "\n",
        "print(\"hello bello\")"
      ]
    },
    {
      "cell_type": "markdown",
      "source": [
        "Adatok beolvasása parquett-be"
      ],
      "metadata": {
        "id": "oRzDg-Rago2p"
      }
    },
    {
      "cell_type": "code",
      "source": [
        "# csv_to_parquet.py\n",
        "\n",
        "import pyarrow as pa\n",
        "import pyarrow.parquet as pq\n",
        "\n",
        "csv_file = data\n",
        "parquet_file = '/content/drive/MyDrive/BigData/parquet.txt'\n",
        "chunksize = 100_000\n",
        "\n",
        "csv_stream = pd.read_csv(csv_file, sep='\\t', chunksize=chunksize, low_memory=False)\n",
        "\n",
        "for i, chunk in enumerate(csv_stream):\n",
        "    print(\"Chunk\", i)\n",
        "    if i == 0:\n",
        "        # Guess the schema of the CSV file from the first chunk\n",
        "        parquet_schema = pa.Table.from_pandas(df=chunk).schema\n",
        "        # Open a Parquet file for writing\n",
        "        parquet_writer = pq.ParquetWriter(parquet_file, parquet_schema, compression='snappy')\n",
        "    # Write CSV chunk to the parquet file\n",
        "    table = pa.Table.from_pandas(chunk, schema=parquet_schema)\n",
        "    parquet_writer.write_table(table)\n",
        "\n",
        "parquet_writer.close()"
      ],
      "metadata": {
        "id": "-4mvCguRfrKi"
      },
      "execution_count": null,
      "outputs": []
    },
    {
      "cell_type": "markdown",
      "source": [
        "Adatok DataFrame-be töltése"
      ],
      "metadata": {
        "id": "BQQnqFtJg1kQ"
      }
    },
    {
      "cell_type": "code",
      "source": [
        "df_stops = pd.read_csv(stops)\n",
        "df_stop_times = pd.read_csv(stop_times)\n",
        "df_routes = pd.read_csv(routes)\n",
        "df_trips = pd.read_csv(trips)\n",
        "df_stops.head"
      ],
      "metadata": {
        "id": "i05B8fJYowxl"
      },
      "execution_count": null,
      "outputs": []
    },
    {
      "cell_type": "markdown",
      "source": [
        "Betöltés sikerességének ellenőrzése"
      ],
      "metadata": {
        "id": "TMdRkZ7rjLjK"
      }
    },
    {
      "cell_type": "code",
      "source": [
        "df_stop_times.head\n",
        "for col in df_stop_times.columns:\n",
        "  print(col)\n"
      ],
      "metadata": {
        "id": "A53O5bangPk5"
      },
      "execution_count": null,
      "outputs": []
    },
    {
      "cell_type": "markdown",
      "source": [
        " \n",
        "*   TODO: Adatelőkészítés és szűkítés: a cél mindenhol az, hogy \"mikroadatokon\" dolgozzunk, így ha adatszűkítésre van szükség, akkor javasolt nem mintavételezni, hanem szisztematikusan részadatkészletet választani. Az előkészítés része egy adatszótár létrehozása is (jó gyakorlat: https://help.osf.io/article/217-how-to-make-a-data-dictionary).\n",
        "*   Cél: dokumentáljuk és értsük az adatkészlet változóit. \n",
        "\n"
      ],
      "metadata": {
        "id": "9nbyCJtOi8Nj"
      }
    },
    {
      "cell_type": "markdown",
      "source": [
        "Adatok össze mergelése"
      ],
      "metadata": {
        "id": "OYV1iTljg4qu"
      }
    },
    {
      "cell_type": "code",
      "source": [
        "Mergeddf = pd.merge(mit, mivel)"
      ],
      "metadata": {
        "id": "pKhrCHSQg26K"
      },
      "execution_count": 15,
      "outputs": []
    },
    {
      "cell_type": "markdown",
      "source": [
        "Nem releváns adatok \"kidobálása\":\n",
        "\n",
        "\n",
        "*   Azok az oszlopok amelyek nem kellenek a feladat szempontjából\n",
        "*   Azok a sorok melyek nem felelnek meg a kritériumoknak\n",
        "\n",
        "\n",
        "\n"
      ],
      "metadata": {
        "id": "Z1t2I5MfmCw0"
      }
    },
    {
      "cell_type": "code",
      "source": [
        "df = df.drop(columns=[oszlopnevek felsorolva])"
      ],
      "metadata": {
        "id": "xrvbd4wvmGkM"
      },
      "execution_count": null,
      "outputs": []
    },
    {
      "cell_type": "markdown",
      "source": [],
      "metadata": {
        "id": "gYI-xubSmGWc"
      }
    }
  ]
}